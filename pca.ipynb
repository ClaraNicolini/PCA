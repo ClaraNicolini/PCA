{
 "cells": [
  {
   "cell_type": "code",
   "execution_count": null,
   "metadata": {},
   "outputs": [],
   "source": [
    "import pandas as pd\n",
    "import numpy as np\n",
    "from sklearn.decomposition import PCA\n",
    "from sklearn.preprocessing import StandardScaler\n",
    "import matplotlib.pyplot as plt\n",
    "from scipy.stats import ttest_ind\n",
    "import seaborn as sns"
   ]
  },
  {
   "cell_type": "code",
   "execution_count": null,
   "metadata": {},
   "outputs": [],
   "source": [
    "#carregamento e pré-visualização do dataset\n",
    "data = pd.read_csv('dataset/heart_disease_dataset.csv')\n",
    "print(data.head())\n",
    "print(data.info())"
   ]
  },
  {
   "cell_type": "code",
   "execution_count": null,
   "metadata": {},
   "outputs": [],
   "source": [
    "#seleção e demonstração de valores numéricos\n",
    "numerical_columns = data.select_dtypes(include=['int64']).columns\n",
    "numerical_data = data[numerical_columns]\n",
    "print(numerical_columns)\n",
    "print(numerical_data.head())\n",
    "numerical_data = numerical_data.fillna(numerical_data.mean())"
   ]
  },
  {
   "cell_type": "code",
   "execution_count": null,
   "metadata": {},
   "outputs": [],
   "source": [
    "#normalização e transposição dos dados\n",
    "scaler = StandardScaler()\n",
    "scaled_data = scaler.fit_transform(numerical_data)\n",
    "\n",
    "print(scaled_data[:5])\n",
    "features = numerical_data.drop(columns=['Heart Disease'])\n",
    "scaled_features = scaler.fit_transform(features)\n",
    "\n",
    "transposed_features = pd.DataFrame(scaled_features.T, index=features.columns, columns=features.index)\n"
   ]
  },
  {
   "cell_type": "code",
   "execution_count": null,
   "metadata": {},
   "outputs": [],
   "source": [
    "#PCA\n",
    "pca = PCA(n_components=5)\n",
    "pca_data = pca.fit_transform(scaled_features)\n",
    "\n",
    "pca_df = pd.DataFrame(data=pca_data, columns=['PC1', 'PC2', 'PC3', 'PC4', 'PC5'])\n",
    "print(pca_df.head())\n",
    "\n",
    "#Transposição para análise do gráficos de PC, não utilizado no processo final\n",
    "pca_transposed_data = pca.fit_transform(transposed_features)\n",
    "pca_features_df = pd.DataFrame(data=pca_transposed_data, \n",
    "                                columns=[f'PC{i+1}' for i in range(pca_transposed_data.shape[1])],\n",
    "                                index=transposed_features.index)\n",
    "print(pca_features_df.head())\n"
   ]
  },
  {
   "cell_type": "code",
   "execution_count": null,
   "metadata": {},
   "outputs": [],
   "source": [
    "#gráfico para visualização de valores relevantes\n",
    "plt.figure(figsize=(10, 6))\n",
    "plt.bar(pca_features_df.index, pca_features_df['PC4'], color='skyblue')\n",
    "plt.xlabel('Features')\n",
    "plt.ylabel('Contribution to PC4')\n",
    "plt.title('Feature Contributions to Principal Component 1')\n",
    "plt.xticks(rotation=90)\n",
    "plt.show()"
   ]
  },
  {
   "cell_type": "code",
   "execution_count": null,
   "metadata": {},
   "outputs": [],
   "source": [
    "#seleção de valores específicos\n",
    "selected_features = numerical_data[['Stress Level', 'Heart Rate', 'Blood Pressure','Age']]\n",
    "scaled_selected_features = scaler.fit_transform(selected_features)\n",
    "\n",
    "pca_selected = PCA(n_components=2)\n",
    "pca_selected_data = pca_selected.fit_transform(scaled_selected_features)\n",
    "\n",
    "pca_selected_df = pd.DataFrame(pca_selected_data, columns=['PC4', 'PC5'])\n",
    "\n",
    "lbl = 'Stress Level'\n",
    "c = numerical_data[lbl]\n",
    "\n",
    "#visualização dos resultados\n",
    "plt.figure(figsize=(8, 6))\n",
    "plt.scatter(pca_selected_df['PC4'], pca_selected_df['PC5'], c=c, cmap='coolwarm', edgecolor='k', alpha=0.7)\n",
    "plt.colorbar(label=lbl)\n",
    "plt.xlabel('PC4')\n",
    "plt.ylabel('PC5')\n",
    "plt.title('PCA on Selected Features')\n",
    "plt.show()\n",
    "print(pca_selected_df)"
   ]
  },
  {
   "cell_type": "code",
   "execution_count": null,
   "metadata": {},
   "outputs": [],
   "source": [
    "#Demonstração de Autovalores\n",
    "eigenvalues = pca.explained_variance_\n",
    "print(\"Eigenvalues (Variance explained by each PC):\\n\", eigenvalues)\n",
    "\n",
    "#Demonstração de Autovetores\n",
    "eigenvectors = pca.components_\n",
    "print(\"Eigenvectors (Principal Component Directions):\\n\", eigenvectors)"
   ]
  },
  {
   "cell_type": "code",
   "execution_count": null,
   "metadata": {},
   "outputs": [],
   "source": [
    "#Visualização dos autovalores utilizando matplotlib\n",
    "plt.figure(figsize=(8, 6))\n",
    "plt.plot(range(1, len(eigenvalues)+1), eigenvalues, marker='o', linestyle='--')\n",
    "plt.xlabel('Principal Component')\n",
    "plt.ylabel('Eigenvalue (Variance Explained)')\n",
    "plt.title('Scree Plot')\n",
    "plt.show()"
   ]
  },
  {
   "cell_type": "code",
   "execution_count": null,
   "metadata": {},
   "outputs": [],
   "source": [
    "#Organiza Autovalores e Autovetores por ordem de tamanho\n",
    "sorted_indices = np.argsort(eigenvalues)[::-1]\n",
    "sorted_eigenvalues = eigenvalues[sorted_indices]\n",
    "sorted_eigenvectors = eigenvectors[sorted_indices]\n",
    "\n",
    "print(\"Largest Eigenvalues:\\n\", sorted_eigenvalues)\n",
    "print(\"\\nEigenvectors Corresponding to Largest Eigenvalues:\\n\", sorted_eigenvectors)"
   ]
  },
  {
   "cell_type": "code",
   "execution_count": null,
   "metadata": {},
   "outputs": [],
   "source": [
    "#Cálculo da média de pressão sanguínea por problemas cardíacos\n",
    "mean_bp = numerical_data.groupby('Heart Disease')['Blood Pressure'].mean()\n",
    "print(\"Mean Blood Pressure by Heart Disease Status:\\n\", mean_bp)\n",
    "import matplotlib.pyplot as plt"
   ]
  },
  {
   "cell_type": "code",
   "execution_count": null,
   "metadata": {},
   "outputs": [],
   "source": [
    "#Procurando correlação entre incidência de alta pressão sanguínea e índices de problemas cardiovasculares\n",
    "mean_bp = numerical_data.groupby('Heart Disease')['Blood Pressure'].mean()\n",
    "plt.figure(figsize=(8, 6))\n",
    "sns.boxplot(hue ='Heart Disease', y='Blood Pressure', data=numerical_data, palette='coolwarm')\n",
    "legend=False\n",
    "plt.xlabel('Heart Disease (0 = No, 1 = Yes)')\n",
    "plt.ylabel('Blood Pressure')\n",
    "plt.title('Blood Pressure Distribution by Heart Disease Status')\n",
    "plt.show()"
   ]
  },
  {
   "cell_type": "code",
   "execution_count": null,
   "metadata": {},
   "outputs": [],
   "source": [
    "#Investigando com valores estatísticos a irrelevância do nível de estresse para incidência de problemas cardíacos\n",
    "bp_no_disease = numerical_data[numerical_data['Heart Disease'] == 0]['Blood Pressure']\n",
    "bp_with_disease = numerical_data[numerical_data['Heart Disease'] == 1]['Blood Pressure']\n",
    "\n",
    "t_stat, p_value = ttest_ind(bp_no_disease, bp_with_disease)\n",
    "print(\"T-Test Results:\")\n",
    "print(f\"T-statistic: {t_stat}, P-value: {p_value}\")\n",
    "\n",
    "if p_value < 0.05:\n",
    "    print(\"The difference in blood pressure between the groups is statistically significant.\")\n",
    "else:\n",
    "    print(\"The difference in blood pressure between the groups is not statistically significant.\")"
   ]
  },
  {
   "cell_type": "code",
   "execution_count": null,
   "metadata": {},
   "outputs": [],
   "source": [
    "plt.figure(figsize=(8, 6))\n",
    "sns.stripplot(x='Heart Disease', y='Blood Pressure', data=numerical_data, palette='coolwarm', jitter=True, alpha=0.6)\n",
    "plt.xlabel('Heart Disease (0 = No, 1 = Yes)')\n",
    "plt.ylabel('Blood Pressure')\n",
    "plt.title('Blood Pressure Distribution by Heart Disease Status - Strip Plot')\n",
    "plt.show()\n"
   ]
  },
  {
   "cell_type": "code",
   "execution_count": null,
   "metadata": {},
   "outputs": [],
   "source": [
    "plt.figure(figsize=(8, 6))\n",
    "sns.stripplot(x='Heart Disease', y='Stress Level', data=numerical_data, palette='coolwarm', jitter=True, alpha=0.6)\n",
    "plt.xlabel('Heart Disease (0 = No, 1 = Yes)')\n",
    "plt.ylabel('Stress Level')\n",
    "plt.title('Stress Level Distribution by Heart Disease Status - Strip Plot')\n",
    "plt.show()"
   ]
  }
 ],
 "metadata": {
  "kernelspec": {
   "display_name": "Python 3",
   "language": "python",
   "name": "python3"
  },
  "language_info": {
   "codemirror_mode": {
    "name": "ipython",
    "version": 3
   },
   "file_extension": ".py",
   "mimetype": "text/x-python",
   "name": "python",
   "nbconvert_exporter": "python",
   "pygments_lexer": "ipython3",
   "version": "3.11.9"
  }
 },
 "nbformat": 4,
 "nbformat_minor": 2
}
